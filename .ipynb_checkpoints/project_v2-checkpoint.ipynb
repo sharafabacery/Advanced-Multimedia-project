{
 "cells": [
  {
   "cell_type": "code",
   "execution_count": 2,
   "metadata": {},
   "outputs": [],
   "source": [
    "import cv2\n",
    "import glob"
   ]
  },
  {
   "cell_type": "code",
   "execution_count": 4,
   "metadata": {},
   "outputs": [],
   "source": [
    "sift = cv2.SIFT_create()"
   ]
  },
  {
   "cell_type": "code",
   "execution_count": 5,
   "metadata": {},
   "outputs": [],
   "source": [
    "index_params = dict(algorithm=0, trees=5)\n",
    "search_params = dict()"
   ]
  },
  {
   "cell_type": "code",
   "execution_count": 6,
   "metadata": {},
   "outputs": [],
   "source": [
    "flann = cv2.FlannBasedMatcher(index_params, search_params)"
   ]
  },
  {
   "cell_type": "code",
   "execution_count": 8,
   "metadata": {},
   "outputs": [],
   "source": [
    "all_images_to_compare = []\n",
    "titles = []\n",
    "percentage=[]\n",
    "for img_glob in glob.iglob(\"images_training\\*\"):\n",
    "    image = cv2.imread(img_glob)\n",
    "    Imagegray = cv2.cvtColor(image, cv2.COLOR_BGR2GRAY)\n",
    "    img=(img_glob.split(\"\\\\\")[1]).split(\".\")[0]\n",
    "    titles.append(img)\n",
    "    all_images_to_compare.append(Imagegray)"
   ]
  },
  {
   "cell_type": "code",
   "execution_count": 9,
   "metadata": {},
   "outputs": [],
   "source": [
    "Imagecolor=cv2.imread(\"images_testing/20 front.jpg\")#read image path ,flag=0:grayscale 1=color -1=alpha \n",
    "Imagegray = cv2.cvtColor(Imagecolor, cv2.COLOR_BGR2GRAY)"
   ]
  },
  {
   "cell_type": "code",
   "execution_count": 10,
   "metadata": {},
   "outputs": [],
   "source": [
    "kp1, des1 = sift.detectAndCompute(Imagegray,None)"
   ]
  },
  {
   "cell_type": "code",
   "execution_count": null,
   "metadata": {},
   "outputs": [],
   "source": [
    "for img in all_images_to_compare:\n",
    "    kp_2, desc_2 = sift.detectAndCompute(img, None)\n",
    "    matches = flann.knnMatch(des1, desc_2, k=2)\n",
    "    good_points = []\n",
    "    for m, n in matches:\n",
    "        if m.distance > 0.6*n.distance:\n",
    "            good_points.append(m)\n",
    "    number_keypoints = 0\n",
    "    if len(kp1) >= len(kp_2):\n",
    "        number_keypoints = len(kp1)\n",
    "    else:\n",
    "        number_keypoints = len(kp_2)\n",
    "    percentage_similarity = len(good_points) / number_keypoints * 100\n",
    "    percentage.append(percentage_similarity)"
   ]
  },
  {
   "cell_type": "code",
   "execution_count": null,
   "metadata": {},
   "outputs": [],
   "source": [
    "percentage"
   ]
  },
  {
   "cell_type": "code",
   "execution_count": null,
   "metadata": {},
   "outputs": [],
   "source": [
    "titles"
   ]
  },
  {
   "cell_type": "code",
   "execution_count": null,
   "metadata": {},
   "outputs": [],
   "source": []
  }
 ],
 "metadata": {
  "kernelspec": {
   "display_name": "Python 3",
   "language": "python",
   "name": "python3"
  },
  "language_info": {
   "codemirror_mode": {
    "name": "ipython",
    "version": 3
   },
   "file_extension": ".py",
   "mimetype": "text/x-python",
   "name": "python",
   "nbconvert_exporter": "python",
   "pygments_lexer": "ipython3",
   "version": "3.7.6"
  }
 },
 "nbformat": 4,
 "nbformat_minor": 4
}
